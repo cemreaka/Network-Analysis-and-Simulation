{
 "cells": [
  {
   "cell_type": "code",
   "execution_count": 1,
   "metadata": {},
   "outputs": [],
   "source": [
    "import numpy as np\n",
    "import time"
   ]
  },
  {
   "attachments": {},
   "cell_type": "markdown",
   "metadata": {},
   "source": [
    "**<span style=\"font-size: 100%;\"> Q2) Binomial R.V.</span>**"
   ]
  },
  {
   "cell_type": "code",
   "execution_count": 2,
   "metadata": {},
   "outputs": [],
   "source": [
    "def binomial_cdf_inv(n, p, size):\n",
    "    q = 1 - p\n",
    "    s = np.zeros(size)\n",
    "    for i in range(size):\n",
    "        u = np.random.uniform(0, 1)\n",
    "        j = 0\n",
    "        F = (1 - q**n) / (1 - q)\n",
    "        while u > F:\n",
    "            j += 1\n",
    "            F += (p**j * q**(n-j) * (n-j+1)) / (j * (1-q))\n",
    "        s[i] = j\n",
    "    return s"
   ]
  },
  {
   "cell_type": "code",
   "execution_count": 3,
   "metadata": {},
   "outputs": [],
   "source": [
    "def binomial_bernoulli_var(n, p, size):\n",
    "    s = np.zeros(size)\n",
    "    for i in range(size):\n",
    "        s[i] = np.sum(np.random.binomial(1, p, n))\n",
    "    return s"
   ]
  },
  {
   "cell_type": "code",
   "execution_count": 4,
   "metadata": {},
   "outputs": [],
   "source": [
    "def binomial_geo_strings(n, p, size):\n",
    "    s = np.zeros(size)\n",
    "    for i in range(size):\n",
    "        u = np.random.uniform(0, 1, n)\n",
    "        x = np.zeros(n)\n",
    "        x[u <= p] = 1\n",
    "        s[i] = np.sum(x)\n",
    "    return s"
   ]
  },
  {
   "cell_type": "code",
   "execution_count": 5,
   "metadata": {},
   "outputs": [],
   "source": [
    "n_values = [10, 50, 100, 500]\n",
    "p_values = [0.1, 0.5, 0.9]\n",
    "sizes = [100000]"
   ]
  },
  {
   "cell_type": "code",
   "execution_count": 6,
   "metadata": {},
   "outputs": [
    {
     "name": "stdout",
     "output_type": "stream",
     "text": [
      "Round 1: \n",
      "CDF inversion method for n=10, p=0.1: 0.170538 seconds\n",
      "Bernoulli sequence method for n=10, p=0.1: 0.367784 seconds\n",
      "Geometric string method for n=10, p=0.1: 0.612561 seconds\n",
      "\n",
      "Round 2: \n",
      "CDF inversion method for n=10, p=0.5: 0.177598 seconds\n",
      "Bernoulli sequence method for n=10, p=0.5: 0.378974 seconds\n",
      "Geometric string method for n=10, p=0.5: 0.692152 seconds\n",
      "\n",
      "Round 3: \n",
      "CDF inversion method for n=10, p=0.9: 0.175156 seconds\n",
      "Bernoulli sequence method for n=10, p=0.9: 0.372776 seconds\n",
      "Geometric string method for n=10, p=0.9: 0.620542 seconds\n",
      "\n",
      "Round 4: \n",
      "CDF inversion method for n=50, p=0.1: 0.179891 seconds\n",
      "Bernoulli sequence method for n=50, p=0.1: 0.411118 seconds\n",
      "Geometric string method for n=50, p=0.1: 0.665612 seconds\n",
      "\n",
      "Round 5: \n",
      "CDF inversion method for n=50, p=0.5: 0.175642 seconds\n",
      "Bernoulli sequence method for n=50, p=0.5: 0.434737 seconds\n",
      "Geometric string method for n=50, p=0.5: 0.707964 seconds\n",
      "\n",
      "Round 6: \n",
      "CDF inversion method for n=50, p=0.9: 0.205108 seconds\n",
      "Bernoulli sequence method for n=50, p=0.9: 0.438290 seconds\n",
      "Geometric string method for n=50, p=0.9: 0.686412 seconds\n",
      "\n",
      "Round 7: \n",
      "CDF inversion method for n=100, p=0.1: 0.173763 seconds\n",
      "Bernoulli sequence method for n=100, p=0.1: 0.458992 seconds\n",
      "Geometric string method for n=100, p=0.1: 0.705918 seconds\n",
      "\n",
      "Round 8: \n",
      "CDF inversion method for n=100, p=0.5: 0.172221 seconds\n",
      "Bernoulli sequence method for n=100, p=0.5: 0.507893 seconds\n",
      "Geometric string method for n=100, p=0.5: 0.743409 seconds\n",
      "\n",
      "Round 9: \n",
      "CDF inversion method for n=100, p=0.9: 0.172604 seconds\n",
      "Bernoulli sequence method for n=100, p=0.9: 0.455349 seconds\n",
      "Geometric string method for n=100, p=0.9: 0.707927 seconds\n",
      "\n",
      "Round 10: \n",
      "CDF inversion method for n=500, p=0.1: 0.176386 seconds\n",
      "Bernoulli sequence method for n=500, p=0.1: 0.882400 seconds\n",
      "Geometric string method for n=500, p=0.1: 1.069119 seconds\n",
      "\n",
      "Round 11: \n",
      "CDF inversion method for n=500, p=0.5: 0.178589 seconds\n",
      "Bernoulli sequence method for n=500, p=0.5: 1.206839 seconds\n",
      "Geometric string method for n=500, p=0.5: 1.237688 seconds\n",
      "\n",
      "Round 12: \n",
      "CDF inversion method for n=500, p=0.9: 0.205931 seconds\n",
      "Bernoulli sequence method for n=500, p=0.9: 0.970042 seconds\n",
      "Geometric string method for n=500, p=0.9: 1.137990 seconds\n",
      "\n"
     ]
    }
   ],
   "source": [
    "counter = 1\n",
    "for n in n_values:\n",
    "    for p in p_values:\n",
    "        for size in sizes:\n",
    "            print(\"Round \" +str(counter)+ \": \")\n",
    "            start_time = time.time()\n",
    "            binomial_cdf_inv(n, p, size)\n",
    "            end_time = time.time()\n",
    "            print(f\"CDF inversion method for n={n}, p={p}: {end_time - start_time:.6f} seconds\")\n",
    "            \n",
    "            start_time = time.time()\n",
    "            binomial_bernoulli_var(n, p, size)\n",
    "            end_time = time.time()\n",
    "            print(f\"Bernoulli sequence method for n={n}, p={p}: {end_time - start_time:.6f} seconds\")\n",
    "            \n",
    "            start_time = time.time()\n",
    "            binomial_geo_strings(n, p, size)\n",
    "            end_time = time.time()\n",
    "            print(f\"Geometric string method for n={n}, p={p}: {end_time - start_time:.6f} seconds\")\n",
    "            print()\n",
    "            counter = counter + 1"
   ]
  },
  {
   "attachments": {},
   "cell_type": "markdown",
   "metadata": {},
   "source": [
    "**<span style=\"font-size: 100%;\"> Q3) Poisson R.V.</span>**"
   ]
  },
  {
   "cell_type": "code",
   "execution_count": 7,
   "metadata": {},
   "outputs": [],
   "source": [
    "def poisson_cdf_inversion(l):\n",
    "    L = np.exp(-l)\n",
    "    k = 0\n",
    "    p = 1\n",
    "    while True:\n",
    "        k += 1\n",
    "        u = np.random.uniform(0, 1)\n",
    "        p *= u\n",
    "        if p < L:\n",
    "            return k - 1"
   ]
  },
  {
   "cell_type": "code",
   "execution_count": 8,
   "metadata": {},
   "outputs": [],
   "source": [
    "def poisson_exponential(l):\n",
    "    x = 0\n",
    "    s = 0\n",
    "    while s < l:\n",
    "        u = np.random.uniform(0, 1)\n",
    "        s -= np.log(u)\n",
    "        if s < l:\n",
    "            x += 1\n",
    "    return x"
   ]
  },
  {
   "cell_type": "code",
   "execution_count": 9,
   "metadata": {},
   "outputs": [],
   "source": [
    "def poisson_uniform(l):\n",
    "    x = 0\n",
    "    p = np.exp(-l)\n",
    "    while True:\n",
    "        u = np.random.uniform(0, 1)\n",
    "        p *= u\n",
    "        if p >= 1:\n",
    "            x += 1\n",
    "            p /= 1\n",
    "        else:\n",
    "            return x"
   ]
  },
  {
   "cell_type": "code",
   "execution_count": 10,
   "metadata": {},
   "outputs": [
    {
     "name": "stdout",
     "output_type": "stream",
     "text": [
      "Lambda: 1\n",
      "CDF inversion: time = 0.4298 seconds\n",
      "Exponential sum: time = 0.4602 seconds\n",
      "Uniform product: time = 0.2550 seconds\n",
      "\n",
      "Lambda: 5\n",
      "CDF inversion: time = 1.0611 seconds\n",
      "Exponential sum: time = 1.2669 seconds\n",
      "Uniform product: time = 0.2944 seconds\n",
      "\n",
      "Lambda: 10\n",
      "CDF inversion: time = 1.8901 seconds\n",
      "Exponential sum: time = 2.3320 seconds\n",
      "Uniform product: time = 0.2796 seconds\n",
      "\n",
      "Lambda: 20\n",
      "CDF inversion: time = 3.3949 seconds\n",
      "Exponential sum: time = 4.6074 seconds\n",
      "Uniform product: time = 0.2657 seconds\n",
      "\n",
      "Lambda: 30\n",
      "CDF inversion: time = 5.0177 seconds\n",
      "Exponential sum: time = 6.6907 seconds\n",
      "Uniform product: time = 0.2492 seconds\n",
      "\n"
     ]
    }
   ],
   "source": [
    "lambdas = [1, 5, 10, 20, 30]\n",
    "n = 100000\n",
    "\n",
    "for l in lambdas:\n",
    "    print(\"Lambda: \" + str(l))\n",
    "    start_time = time.time()\n",
    "    samples = [poisson_cdf_inversion(l) for i in range(n)]\n",
    "    end_time = time.time()\n",
    "    print(f\"CDF inversion: time = {end_time - start_time:.4f} seconds\")\n",
    "\n",
    "    start_time = time.time()\n",
    "    samples = [poisson_exponential(l) for i in range(n)]\n",
    "    end_time = time.time()\n",
    "    print(f\"Exponential sum: time = {end_time - start_time:.4f} seconds\")\n",
    "\n",
    "    start_time = time.time()\n",
    "    samples = [poisson_uniform(l) for i in range(n)]\n",
    "    end_time = time.time()\n",
    "    print(f\"Uniform product: time = {end_time - start_time:.4f} seconds\")\n",
    "    print()"
   ]
  }
 ],
 "metadata": {
  "kernelspec": {
   "display_name": "Python 3",
   "language": "python",
   "name": "python3"
  },
  "language_info": {
   "codemirror_mode": {
    "name": "ipython",
    "version": 3
   },
   "file_extension": ".py",
   "mimetype": "text/x-python",
   "name": "python",
   "nbconvert_exporter": "python",
   "pygments_lexer": "ipython3",
   "version": "3.10.10"
  },
  "orig_nbformat": 4
 },
 "nbformat": 4,
 "nbformat_minor": 2
}
